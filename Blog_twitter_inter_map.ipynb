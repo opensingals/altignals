{
  "nbformat": 4,
  "nbformat_minor": 0,
  "metadata": {
    "colab": {
      "name": "Blog:twitter_inter_map.ipynb",
      "provenance": [],
      "authorship_tag": "ABX9TyODDn7Gr9iAiqGPjYp3adEo",
      "include_colab_link": true
    },
    "kernelspec": {
      "name": "python3",
      "display_name": "Python 3"
    }
  },
  "cells": [
    {
      "cell_type": "markdown",
      "metadata": {
        "id": "view-in-github",
        "colab_type": "text"
      },
      "source": [
        "<a href=\"https://colab.research.google.com/github/opensingals/altignals/blob/master/Blog_twitter_inter_map.ipynb\" target=\"_parent\"><img src=\"https://colab.research.google.com/assets/colab-badge.svg\" alt=\"Open In Colab\"/></a>"
      ]
    },
    {
      "cell_type": "markdown",
      "metadata": {
        "id": "Dq11aG3HSlAs",
        "colab_type": "text"
      },
      "source": [
        "# **Twitter Interactive Heat Map**\n",
        "# Overview\n",
        "\n",
        "A sentiment map is an extremely useful tool that displays how well companies are doing. It also groups them into sectors and sub sectors, thus also showing how various types of companies are doing on the whole. This article will demonstrate a sentiment map, and will show how to carry out a quick analysis using a particular day."
      ]
    },
    {
      "cell_type": "markdown",
      "metadata": {
        "id": "Kyw_QqvVTDa_",
        "colab_type": "text"
      },
      "source": [
        "# Sentiment Map"
      ]
    },
    {
      "cell_type": "code",
      "metadata": {
        "id": "40fFW4YkTF5N",
        "colab_type": "code",
        "colab": {}
      },
      "source": [
        "!pip install --upgrade plotly\n",
        "import plotly.express as px\n",
        "import numpy as np"
      ],
      "execution_count": null,
      "outputs": []
    },
    {
      "cell_type": "code",
      "metadata": {
        "id": "0Wluv2zITLX2",
        "colab_type": "code",
        "colab": {}
      },
      "source": [
        "import pandas as pd\n",
        "api_url = \"http://api.altsignals.org:5000/twitter_sentiment\"\n",
        "df = pd.read_json(r'' + api_url)\n",
        "#df = px.data.gapminder().query(\"year == 2007\")\n",
        "#df[\"sector\"] = \"sector\" # in order to have a single root node\n",
        "fig = px.treemap(df, path=['sector', \"sub_sector\", \"ticker\"], values='market_cap',\n",
        "                  color='sentiment', hover_data=[\"market_cap\"],\n",
        "                  #color_continuous_scale='rdylgn',\n",
        "                  color_continuous_scale='rdylgn',\n",
        "                  color_continuous_midpoint=np.average(df['sentiment']), range_color = [-4, 4])\n",
        "                  #color_continuous_midpoint=np.average(df['sentiment'], weights=df['market_cap']))                 \n",
        "fig.show()"
      ],
      "execution_count": null,
      "outputs": []
    },
    {
      "cell_type": "markdown",
      "metadata": {
        "id": "dt3uGSnuTPnU",
        "colab_type": "text"
      },
      "source": [
        "# What does today’s sentiment map tell us?\n",
        "\n",
        "*   **Positive Sentiment** — Companies that come under the Information Technology bracket are on an upwards trend. Specifically, companies related to Software and Services, such as PayPal and Verisign appear to be doing particularly well.\n",
        "\n",
        "*   **Neutral Sentiment** — Retailing: Has companies that are doing both well and badly. Jingdong (JD), a Chinese e-commerce company is doing very well whilst Booking.com (unsurprisingly) is doing quite poorly.\n",
        "\n",
        "*   **Negative Sentiment** — Some sectors are doing particularly poorly, such as Diversified Financials and the Food, Beverage and Tobacco sector.\n",
        "\n",
        "The sentiment map is built by analysing the sentiment of every tweet regarding that particular company. The companies are then grouped into sectors and sub sectors in order to see the general trend of an industry. historically, this has been an excellent indicator of a company’s future performances, and provides extremely useful information, especially during these uncertain times.\n",
        "\n",
        "\n"
      ]
    },
    {
      "cell_type": "markdown",
      "metadata": {
        "id": "x_DBoAqlTzUC",
        "colab_type": "text"
      },
      "source": [
        "# Conclusion\n",
        "Throughout this global pandemic, it has been hard to know which companies will do well and which companies will do poorly. However, with a sentiment map such as the one shown above, it is much easier to understand how sectors in general are doing. Whilst this is not a definitive indication of how well any company will do, it does provide very valuable information that can be used to make better financial decisions.\n",
        "\n",
        "At AltsSignals.ai, we use this method as well as other alternative data based approaches to provide market beating signals. These have been backtested numerous times and have proven time and time again that they are profitable.\n",
        "\n",
        "If you want to learn more about our trading strategies, please visit www.altsignals.ai, and sign up for free, or read through some of our other medium articles."
      ]
    }
  ]
}